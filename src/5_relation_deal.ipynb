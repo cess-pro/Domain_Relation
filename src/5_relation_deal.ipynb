{
 "cells": [
  {
   "cell_type": "code",
   "execution_count": 125,
   "metadata": {},
   "outputs": [],
   "source": [
    "import sys\n",
    "import os\n",
    "import time\n",
    "import networkx as nx\n",
    "import matplotlib.pyplot as plt\n",
    "import pickle\n",
    "from tqdm.notebook import tqdm"
   ]
  },
  {
   "cell_type": "code",
   "execution_count": 126,
   "metadata": {},
   "outputs": [
    {
     "data": {
      "application/vnd.jupyter.widget-view+json": {
       "model_id": "29b2d89b186643fdbec37c78bd6abb6c",
       "version_major": 2,
       "version_minor": 0
      },
      "text/plain": [
       "Get domains' meta data:   0%|          | 0/1000 [00:00<?, ?it/s]"
      ]
     },
     "metadata": {},
     "output_type": "display_data"
    }
   ],
   "source": [
    "# 获取域名元数据\n",
    "metad = {}\n",
    "with open(\"/root/Workspace/DWTF/domain_relation/src/secrank1k-metadata.txt\",\"r\") as inf:\n",
    "    for line in tqdm(inf.readlines(), desc=\"Get domains' meta data\"):\n",
    "        td = eval(line.strip())\n",
    "        metad[td['sld']] = td"
   ]
  },
  {
   "cell_type": "code",
   "execution_count": 127,
   "metadata": {},
   "outputs": [],
   "source": [
    "## 有向图转json\n",
    "def graph2json(G):\n",
    "    d = {'nodes':[], 'links':[]}\n",
    "    # 节点信息\n",
    "    for n in G.nodes():\n",
    "        d['nodes'].append({\n",
    "            'id':n,\n",
    "            'indegree': G.in_degree(n),\n",
    "            'color': G.nodes[n]['color']\n",
    "        })\n",
    "    # 边信息\n",
    "    d['links'] = [{'source': u, 'target': v, 'color':G.edges[u,v]['color']} for u, v in G.edges()]\n",
    "    return d"
   ]
  },
  {
   "cell_type": "code",
   "execution_count": 128,
   "metadata": {},
   "outputs": [],
   "source": [
    "## 去除自环\n",
    "def wipecycle(G):\n",
    "    remove_edges = []\n",
    "    for u,v in G.edges():\n",
    "        if u == v:\n",
    "            remove_edges.append((u,v))\n",
    "    for i in remove_edges:\n",
    "        G.remove_edge(i[0], i[1])"
   ]
  },
  {
   "cell_type": "code",
   "execution_count": 129,
   "metadata": {},
   "outputs": [],
   "source": [
    "# 给图(json)增加其他元数据\n",
    "def addmetadata(j):\n",
    "    for domain in tqdm(j['nodes'], desc=\"Add mate data to josn\"):\n",
    "            try:\n",
    "                domain['requestCount'] = metad[domain['id']]['requestCount']\n",
    "                domain['clientIpCount'] = metad[domain['id']]['clientIpCount']\n",
    "                domain['subdomainCount'] = metad[domain['id']]['subdomainCount']\n",
    "            except Exception as e:\n",
    "                pass"
   ]
  },
  {
   "cell_type": "code",
   "execution_count": 130,
   "metadata": {},
   "outputs": [],
   "source": [
    "# 增加点和线的颜色属性\n",
    "\n",
    "## 增加默认的绿色属性\n",
    "def addg(G):\n",
    "    # 添加节点属性\n",
    "    for i in G.nodes():\n",
    "        nx.set_node_attributes(G, {i:{'color':'green'}})\n",
    "    # 添加边的属性\n",
    "    for e in G.edges():\n",
    "        nx.set_edge_attributes(G, {e:{'color':'green'}})\n",
    "\n",
    "def addr(G, breakN, breakE):\n",
    "    # 更改节点属性\n",
    "    for i in breakN:\n",
    "        nx.set_node_attributes(G, {i:{'color':'red'}})\n",
    "    # 更改边的属性\n",
    "    for e in breakE:\n",
    "        nx.set_edge_attributes(G, {e:{'color':'red'}})"
   ]
  },
  {
   "cell_type": "code",
   "execution_count": 131,
   "metadata": {},
   "outputs": [],
   "source": [
    "## block一个域名，返回受影响的线和边\n",
    "# TODO: 没有考虑到互换的情况，应该增加一种判断，一个点到不了根节点就算失效，但边可以先保留\n",
    "\n",
    "def blockdomain(G, domainname, breakE, breakN):\n",
    "    breakN.append(domainname)\n",
    "    print(\"[++++++]\"+domainname+\" blocked !\")\n",
    "    # 获取所有指向该点的边，入列\n",
    "    for edge in G.in_edges(domainname):\n",
    "        print(\"[------]edge {} donw\".format(edge))\n",
    "        breakE.append(edge)\n",
    "        \n",
    "    # 获取所有指向该点的点, 判断是否需要继续BAN，深度有限\n",
    "    for src in G.predecessors(domainname):\n",
    "        # 判断是否所有的outedge都已不可用\n",
    "        for edge in G.out_edges(src):\n",
    "            if edge not in breakEdges:\n",
    "                break\n",
    "            #所有出边均已不可用，下线该点\n",
    "            blockdomain(G, domainname=src, breakE=breakE, breakN=breakN)\n",
    "    \n",
    "##Test\n",
    "# breakEdges, breakNods = [],[]\n",
    "# blockdomain(nxs['edu']['general'], 'edu.cn', breakEdges, breakNods)\n",
    "# breakEdges = list(set(breakEdges))\n",
    "# breakNods = list(set(breakNods))"
   ]
  },
  {
   "cell_type": "code",
   "execution_count": 132,
   "metadata": {},
   "outputs": [
    {
     "data": {
      "application/vnd.jupyter.widget-view+json": {
       "model_id": "a745488c84f245b6a3ab1f94c014c5b4",
       "version_major": 2,
       "version_minor": 0
      },
      "text/plain": [
       "Add mate data to josn:   0%|          | 0/175 [00:00<?, ?it/s]"
      ]
     },
     "metadata": {},
     "output_type": "display_data"
    },
    {
     "data": {
      "application/vnd.jupyter.widget-view+json": {
       "model_id": "2f1bbd030055428298c450ecef833072",
       "version_major": 2,
       "version_minor": 0
      },
      "text/plain": [
       "Add mate data to josn:   0%|          | 0/215 [00:00<?, ?it/s]"
      ]
     },
     "metadata": {},
     "output_type": "display_data"
    },
    {
     "data": {
      "application/vnd.jupyter.widget-view+json": {
       "model_id": "1f7ea9d215e5412eb0945ad237002ac3",
       "version_major": 2,
       "version_minor": 0
      },
      "text/plain": [
       "Add mate data to josn:   0%|          | 0/332 [00:00<?, ?it/s]"
      ]
     },
     "metadata": {},
     "output_type": "display_data"
    }
   ],
   "source": [
    "## 提取指定有向图，输出默认颜色（green）的json文件\n",
    "import networkx as nx\n",
    "from networkx.readwrite import json_graph\n",
    "import json\n",
    "from pprint import pprint\n",
    "\n",
    "tars = ['edu', 'gov', 'other']\n",
    "nxs = {}\n",
    "for i in tars:\n",
    "    nxs[i] = pickle.load(open(\"/root/Workspace/DWTF/domain_relation/data/%s.graph_set_global.bin\" % i, \"rb\"))\n",
    "\n",
    "wc = True\n",
    "\n",
    "for u,v in nxs.items():\n",
    "    if wc:\n",
    "        wipecycle(v['general'])\n",
    "    #增加默认的颜色属性\n",
    "    addg(v['general'])\n",
    "    j = graph2json(v['general'])\n",
    "    # 添加其他元数据\n",
    "    addmetadata(j)\n",
    "\n",
    "    json_data = json.dumps(j, indent=4)\n",
    "    with open(\"../data/%s.graph_set_global.json\"%u, \"w+\") as ouf:\n",
    "        ouf.write(json_data)"
   ]
  },
  {
   "cell_type": "code",
   "execution_count": null,
   "metadata": {},
   "outputs": [],
   "source": [
    "# block掉某个域名后的情况\n",
    "\n",
    "#首先获取完整的有向图数据,并做基本处理\n",
    "tars = ['edu', 'gov', 'other']\n",
    "nxs = {}\n",
    "for i in tars:\n",
    "    nxs[i] = pickle.load(open(\"/root/Workspace/DWTF/domain_relation/data/%s.graph_set_global.bin\" % i, \"rb\"))\n",
    "\n",
    "wc = True\n",
    "for u,v in nxs.items():\n",
    "    if wc:\n",
    "        # 去除自环\n",
    "        wipecycle(v['general'])\n",
    "    #增加默认的颜色属性\n",
    "    addg(v['general'])\n",
    "    \n",
    "# block a domain\n",
    "breakEdges, breakNods = [],[]\n",
    "blockdomain(nxs['edu']['general'], 'edu.cn', breakEdges, breakNods)\n",
    "breakEdges = list(set(breakEdges))\n",
    "breakNods = list(set(breakNods))\n",
    "\n",
    "addr(nxs['edu']['general'], breakNods, breakEdges)\n",
    "\n",
    "j = graph2json(nxs['edu']['general'])\n",
    "# 添加其他元数据\n",
    "addmetadata(j)\n",
    "json_data = json.dumps(j, indent=4)\n",
    "with open(\"../data/%s.graph_set_global.block%s.json\"%(\"edu\", \"edu.cn\"), \"w+\") as ouf:\n",
    "    ouf.write(json_data)"
   ]
  }
 ],
 "metadata": {
  "kernelspec": {
   "display_name": "Python 3",
   "language": "python",
   "name": "python3"
  },
  "language_info": {
   "codemirror_mode": {
    "name": "ipython",
    "version": 3
   },
   "file_extension": ".py",
   "mimetype": "text/x-python",
   "name": "python",
   "nbconvert_exporter": "python",
   "pygments_lexer": "ipython3",
   "version": "3.8.10"
  },
  "orig_nbformat": 4
 },
 "nbformat": 4,
 "nbformat_minor": 2
}
