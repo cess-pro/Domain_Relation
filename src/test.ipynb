{
 "cells": [
  {
   "cell_type": "code",
   "execution_count": 7,
   "metadata": {},
   "outputs": [
    {
     "name": "stdout",
     "output_type": "stream",
     "text": [
      "[(1, {'color': 'red', 'size': 10}), (2, {'color': 'blue', 'size': 20})]\n"
     ]
    }
   ],
   "source": [
    "import networkx as nx\n",
    "\n",
    "# 创建一个简单的图\n",
    "G = nx.Graph()\n",
    "G.add_node(1, color='red', size=10)\n",
    "G.add_node(2, color='blue', size=20)\n",
    "G.add_edge(1, 2, weight=0.5)\n",
    "print(G.nodes.data[1])\n",
    "# # 获取节点 1 的所有属性\n",
    "# for node in G.nodes():\n",
    "#     print(node.data())\n"
   ]
  }
 ],
 "metadata": {
  "kernelspec": {
   "display_name": "Python 3",
   "language": "python",
   "name": "python3"
  },
  "language_info": {
   "codemirror_mode": {
    "name": "ipython",
    "version": 3
   },
   "file_extension": ".py",
   "mimetype": "text/x-python",
   "name": "python",
   "nbconvert_exporter": "python",
   "pygments_lexer": "ipython3",
   "version": "3.8.10"
  },
  "orig_nbformat": 4
 },
 "nbformat": 4,
 "nbformat_minor": 2
}
