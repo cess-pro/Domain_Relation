{
 "cells": [
  {
   "cell_type": "code",
   "execution_count": 8,
   "metadata": {},
   "outputs": [
    {
     "name": "stdout",
     "output_type": "stream",
     "text": [
      "不可达节点： {8, 4, 5, 7}\n"
     ]
    }
   ],
   "source": [
    "import networkx as nx\n",
    "\n",
    "# 构建一个有向树图\n",
    "G = nx.DiGraph()\n",
    "G.add_edges_from([(1, 2), (1, 3), (2, 4), (2, 5), (3, 6), (4, 7), (4, 8)])\n",
    "\n",
    "# 定义根节点\n",
    "root_node = 1\n",
    "\n",
    "# 定义不可用的节点\n",
    "unavailable_node = 2\n",
    "\n",
    "# 第一次深度优先搜索\n",
    "reachable1 = set(nx.dfs_preorder_nodes(G, source=root_node))\n",
    "reachable1.remove(unavailable_node)\n",
    "\n",
    "# 删除该节点及其边\n",
    "G.remove_node(unavailable_node)\n",
    "\n",
    "# 第二次深度优先搜索\n",
    "reachable2 = set(nx.dfs_preorder_nodes(G, source=root_node))\n",
    "\n",
    "# 求差集\n",
    "unreachable = reachable1 - reachable2\n",
    "\n",
    "print(\"不可达节点：\", unreachable)\n"
   ]
  }
 ],
 "metadata": {
  "kernelspec": {
   "display_name": "Python 3",
   "language": "python",
   "name": "python3"
  },
  "language_info": {
   "codemirror_mode": {
    "name": "ipython",
    "version": 3
   },
   "file_extension": ".py",
   "mimetype": "text/x-python",
   "name": "python",
   "nbconvert_exporter": "python",
   "pygments_lexer": "ipython3",
   "version": "3.8.10"
  },
  "orig_nbformat": 4
 },
 "nbformat": 4,
 "nbformat_minor": 2
}
