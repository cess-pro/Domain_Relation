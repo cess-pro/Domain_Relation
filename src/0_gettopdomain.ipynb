{
 "cells": [
  {
   "cell_type": "code",
   "execution_count": 1,
   "metadata": {},
   "outputs": [
    {
     "data": {
      "application/vnd.jupyter.widget-view+json": {
       "model_id": "e756e34da6744020948f1d14ea634bd6",
       "version_major": 2,
       "version_minor": 0
      },
      "text/plain": [
       "  0%|          | 0/1000000 [00:00<?, ?it/s]"
      ]
     },
     "metadata": {},
     "output_type": "display_data"
    }
   ],
   "source": [
    "from tqdm.notebook import tqdm\n",
    "\n",
    "topdomain = {'edu':[], \"gov\":[], \"other\":[]}\n",
    "\n",
    "with open(\"2023-02-21.secrank\",\"r\") as inf:\n",
    "    for line in tqdm(inf.readlines()):\n",
    "        tdomain = line.split(\"\\t\")[0]\n",
    "        if \".edu.cn\" in tdomain:\n",
    "            if len(topdomain[\"edu\"]) <150:\n",
    "                topdomain[\"edu\"].append(tdomain)\n",
    "                continue\n",
    "        if \".gov.cn\" in tdomain:\n",
    "            if len(topdomain[\"gov\"]) <150:\n",
    "                topdomain[\"gov\"].append(tdomain)\n",
    "                continue\n",
    "        if len(topdomain[\"other\"]) < 700:\n",
    "            topdomain[\"other\"].append(tdomain)\n",
    "            continue"
   ]
  },
  {
   "cell_type": "code",
   "execution_count": 3,
   "metadata": {},
   "outputs": [
    {
     "name": "stdout",
     "output_type": "stream",
     "text": [
      "150 150 700\n"
     ]
    }
   ],
   "source": [
    "from pprint import pprint\n",
    "print(len(topdomain[\"edu\"]), len(topdomain[\"gov\"]), len(topdomain[\"other\"]))\n",
    "for i in topdomain:\n",
    "    with open(\"../data/\"+i+\".list\", 'w+') as ouf:\n",
    "        for j in topdomain[i]:\n",
    "            ouf.write(j+\"\\n\") "
   ]
  }
 ],
 "metadata": {
  "kernelspec": {
   "display_name": "Python 3",
   "language": "python",
   "name": "python3"
  },
  "language_info": {
   "codemirror_mode": {
    "name": "ipython",
    "version": 3
   },
   "file_extension": ".py",
   "mimetype": "text/x-python",
   "name": "python",
   "nbconvert_exporter": "python",
   "pygments_lexer": "ipython3",
   "version": "3.8.10"
  },
  "orig_nbformat": 4,
  "vscode": {
   "interpreter": {
    "hash": "767d51c1340bd893661ea55ea3124f6de3c7a262a8b4abca0554b478b1e2ff90"
   }
  }
 },
 "nbformat": 4,
 "nbformat_minor": 2
}
